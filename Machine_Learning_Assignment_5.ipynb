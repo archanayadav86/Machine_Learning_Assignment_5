{
 "cells": [
  {
   "cell_type": "markdown",
   "metadata": {},
   "source": [
    "Q1. What are the key tasks that machine learning entails? What does data pre-processing imply?"
   ]
  },
  {
   "cell_type": "markdown",
   "metadata": {},
   "source": [
    "Ans-- > Key task in Machine Learning are- \n",
    "Data Preprocessing\n",
    "Data Clustering\n",
    "Data Modelling\n",
    "Data Classification\n",
    "For all above data processing we should use above points with proper data modelling which gives good accuracy for test dataset.\n",
    "\n",
    "Data Preprocessing implies\n",
    "1)Data Cleaning\n",
    "2)Data Integration\n",
    "3)Data Reduction\n",
    "4)Data Transformation\n",
    "5)Data Reduction\n",
    "6)Handling NULL values and missing values"
   ]
  },
  {
   "cell_type": "markdown",
   "metadata": {},
   "source": [
    "Q2. Describe quantitative and qualitative data in depth. Make a distinction between the two."
   ]
  },
  {
   "cell_type": "markdown",
   "metadata": {},
   "source": [
    "Ans--> Qualitative data is categorical data whereas quantitative data is continous or numerical data that can be measured quantified or counted\n",
    "In Qualitative data we will use features like Gender, Education,Any Brand, Name or anything that can be in categorical form and the other thing is we can use Logistic Function to classify this data or we can use any activation function to classigy the classes\n",
    "\n",
    "Whereas in Quantitative data we will use all continous and numerical value in this we can use any model but accuracy should be high."
   ]
  },
  {
   "cell_type": "markdown",
   "metadata": {},
   "source": [
    "Q3. Create a basic data collection that includes some sample records. Have at least one attribute from each of the machine learning data types."
   ]
  },
  {
   "cell_type": "code",
   "execution_count": 28,
   "metadata": {},
   "outputs": [
    {
     "data": {
      "text/html": [
       "<div>\n",
       "<style scoped>\n",
       "    .dataframe tbody tr th:only-of-type {\n",
       "        vertical-align: middle;\n",
       "    }\n",
       "\n",
       "    .dataframe tbody tr th {\n",
       "        vertical-align: top;\n",
       "    }\n",
       "\n",
       "    .dataframe thead th {\n",
       "        text-align: right;\n",
       "    }\n",
       "</style>\n",
       "<table border=\"1\" class=\"dataframe\">\n",
       "  <thead>\n",
       "    <tr style=\"text-align: right;\">\n",
       "      <th></th>\n",
       "      <th>S.no</th>\n",
       "      <th>Name</th>\n",
       "      <th>Age</th>\n",
       "      <th>marks</th>\n",
       "      <th>pass</th>\n",
       "    </tr>\n",
       "  </thead>\n",
       "  <tbody>\n",
       "    <tr>\n",
       "      <th>0</th>\n",
       "      <td>1</td>\n",
       "      <td>Asha</td>\n",
       "      <td>18</td>\n",
       "      <td>100.5</td>\n",
       "      <td>P</td>\n",
       "    </tr>\n",
       "    <tr>\n",
       "      <th>1</th>\n",
       "      <td>2</td>\n",
       "      <td>Manju</td>\n",
       "      <td>20</td>\n",
       "      <td>250.8</td>\n",
       "      <td>P</td>\n",
       "    </tr>\n",
       "    <tr>\n",
       "      <th>2</th>\n",
       "      <td>3</td>\n",
       "      <td>Preeti</td>\n",
       "      <td>27</td>\n",
       "      <td>135.6</td>\n",
       "      <td>P</td>\n",
       "    </tr>\n",
       "    <tr>\n",
       "      <th>3</th>\n",
       "      <td>4</td>\n",
       "      <td>Aman</td>\n",
       "      <td>34</td>\n",
       "      <td>120.5</td>\n",
       "      <td>F</td>\n",
       "    </tr>\n",
       "    <tr>\n",
       "      <th>4</th>\n",
       "      <td>5</td>\n",
       "      <td>Rahul</td>\n",
       "      <td>31</td>\n",
       "      <td>200.2</td>\n",
       "      <td>P</td>\n",
       "    </tr>\n",
       "  </tbody>\n",
       "</table>\n",
       "</div>"
      ],
      "text/plain": [
       "   S.no    Name  Age  marks pass\n",
       "0     1    Asha   18  100.5    P\n",
       "1     2   Manju   20  250.8    P\n",
       "2     3  Preeti   27  135.6    P\n",
       "3     4    Aman   34  120.5    F\n",
       "4     5   Rahul   31  200.2    P"
      ]
     },
     "execution_count": 28,
     "metadata": {},
     "output_type": "execute_result"
    }
   ],
   "source": [
    "import pandas as pd\n",
    "import numpy as np\n",
    "\n",
    "df = pd.DataFrame({'S.no': [1,2,3,4,5] , 'Name': [\"Asha\",\"Manju\",\"Preeti\",\"Aman\",\"Rahul\"], 'Age':[18,20,27,34,31], 'marks': [100.5, 250.8, 135.6, 120.5,200.2], 'pass': [\"P\",\"P\",\"P\",\"F\",\"P\"]})\n",
    "df"
   ]
  },
  {
   "cell_type": "markdown",
   "metadata": {},
   "source": [
    "Q4. What are the various causes of machine learning data issues? What are the ramifications?"
   ]
  },
  {
   "cell_type": "markdown",
   "metadata": {},
   "source": [
    "Ans--> Major problem is with dataset if dataset is of less data values, missing values, more NULL values ,incomplete data ,not labelled or Unclean data which require processing takes lot of time and amke accuracy low is the major problem in Machine Learning.\n",
    "After checking appropriate model we need to work on various factor like Accuracy, Report, MSE and allm error and after trail and run method we need to finalize the output "
   ]
  },
  {
   "cell_type": "markdown",
   "metadata": {},
   "source": [
    "Q5. Demonstrate various approaches to categorical data exploration with appropriate examples.\n"
   ]
  },
  {
   "cell_type": "markdown",
   "metadata": {},
   "source": [
    "Ans--> We can do Label Encoding and One Hot Encoding in Categorical data than it will be easy task to check the output class as it will divide dataset in binary classes , we can create dummy data and apply various algorithm to check the expected vlaue of output class."
   ]
  },
  {
   "cell_type": "markdown",
   "metadata": {},
   "source": [
    "Q6. How would the learning activity be affected if certain variables have missing values? Having said that, what can be done about it?"
   ]
  },
  {
   "cell_type": "markdown",
   "metadata": {},
   "source": [
    "Ans--> If some values are missing than it will affect the accuracy and may increase the error rate. What we can dom is we can sunstitute the missing values with mean and median value or we can remove those columns if dataset is large. But this let to reduce the accuracy as mean and meadian won't work appropriately for all cases."
   ]
  },
  {
   "cell_type": "markdown",
   "metadata": {},
   "source": [
    "Q7. Describe the various methods for dealing with missing data values in depth."
   ]
  },
  {
   "cell_type": "markdown",
   "metadata": {},
   "source": [
    "Ans---> Various methods are\n",
    "1. Mean or Median Imputation\n",
    "2. Multivariate Imputation by Chained Equations (MICE)\n",
    "3. Random Forest"
   ]
  },
  {
   "cell_type": "markdown",
   "metadata": {},
   "source": [
    "Q8. What are the various data pre-processing techniques? Explain dimensionality reduction and function selection in a few words."
   ]
  },
  {
   "cell_type": "markdown",
   "metadata": {},
   "source": [
    "Ans--> Data Preprocessing can be done in four different ways. \n",
    "1)Data cleaning\n",
    "2)Data integration\n",
    "3)Data transformation\n",
    "4)Data reduction are the four categories\n",
    "\n",
    "\n",
    "Feature selection is simply selecting and excluding given features without changing them. Dimensionality reduction transforms features into a lower dimension."
   ]
  },
  {
   "cell_type": "markdown",
   "metadata": {},
   "source": [
    "Q9.i. What is the IQR? What criteria are used to assess it?\n",
    "ii. Describe the various components of a box plot in detail? When will the lower whisker surpass the upper whisker in length? iii.How can box plots be used to identify outliers?"
   ]
  },
  {
   "cell_type": "markdown",
   "metadata": {},
   "source": [
    "Ans-->i)  IQR(Inter Quartile Range) is the range between the first and the third quartiles namely Q1 and Q3: IQR = Q3 – Q1. The data points which fall below Q1 – 1.5 IQR or above Q3 + 1.5 IQR are outliers.\n",
    "\n",
    "ii) A box and whisker plot—also called a box plot—displays the five-number summary of a set of data. The five-number summary is the minimum, first quartile, median, third quartile, and maximum. In a box plot, we draw a box from the first quartile to the third quartile. A vertical line goes through the box at the median.\n",
    "\n",
    "If the left whisker is longer than the right whisker, the distribution is negatively skewed.\n",
    " \n",
    "iii) In the boxplot below, the length of the box is IQR, and the minimum and maximum values are represented by the whiskers. The whiskers are generally extended into 1.5*IQR distance on either side of the box. Therefore, all data points outside these 1.5*IQR values are flagged as outliers.\n",
    "\n"
   ]
  },
  {
   "cell_type": "markdown",
   "metadata": {},
   "source": [
    "Q10. Make brief notes on any two of the following:\n",
    "\n",
    "1. Data collected at regular intervals\n",
    "\n",
    "2. The gap between the quartiles\n",
    "\n",
    "3. Use a cross-tab\n",
    "\n"
   ]
  },
  {
   "cell_type": "markdown",
   "metadata": {},
   "source": [
    "i) The gap between the quartiles -> The distance between the first and third quartiles—the interquartile range (IQR)—is a measure of variability. It indicates the spread of the middle 50% of the data\n",
    "\n",
    "ii) Use a cross-tab -> Cross tabulation is used to quantitatively analyze the relationship between multiple variables. Cross tabulations — also referred to as contingency tables or crosstabs — group variables together and enable researchers to understand the correlation between the different variables"
   ]
  },
  {
   "cell_type": "markdown",
   "metadata": {},
   "source": [
    "Q1. Make a comparison between:\n",
    "\n",
    "1. Data with nominal and ordinal values\n",
    "\n",
    "2. Histogram and box plot\n",
    "\n",
    "3. The average and median\n"
   ]
  },
  {
   "cell_type": "markdown",
   "metadata": {},
   "source": [
    "Ans-->1.Data with nominal and ordinal values -- Data with nominal values means we can't define superioi and inferior data like in Gender shall we keep Male as 1, or Female as 1 or Transgender as 1 but in ordinal data we should see the order like after child, adult,than senior citizen or a person with PHd should come 1st, than PG than UG than Intermediate\n",
    "\n",
    "2. Histogram and box plot - Histograms are a special kind of bar graph that shows a bar for a range of data values instead of a single value. A box plot is a data display that draws a box over a number line to show the interquartile range of the data.Box plot will tell about outliers and quartile value whereas Histogram can't define such values.\n",
    "\n",
    "3. The average and median - The average is calculated by adding up all of the individual values and dividing this total by the number of observations. The median is calculated by taking the “middle” value, the value for which half of the observations are larger and half are smaller."
   ]
  }
 ],
 "metadata": {
  "kernelspec": {
   "display_name": "Python 3",
   "language": "python",
   "name": "python3"
  },
  "language_info": {
   "codemirror_mode": {
    "name": "ipython",
    "version": 3
   },
   "file_extension": ".py",
   "mimetype": "text/x-python",
   "name": "python",
   "nbconvert_exporter": "python",
   "pygments_lexer": "ipython3",
   "version": "3.7.6"
  }
 },
 "nbformat": 4,
 "nbformat_minor": 4
}
